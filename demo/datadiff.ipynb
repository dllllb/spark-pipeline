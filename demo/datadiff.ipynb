{
 "cells": [
  {
   "cell_type": "code",
   "execution_count": 1,
   "metadata": {
    "collapsed": true,
    "tags": []
   },
   "outputs": [],
   "source": [
    "%load_ext autoreload\n",
    "%autoreload 2\n",
    "\n",
    "import sparktools.datadiff as dd"
   ]
  },
  {
   "cell_type": "code",
   "execution_count": 2,
   "metadata": {
    "collapsed": true
   },
   "outputs": [],
   "source": [
    "from pyspark.sql import SparkSession\n",
    "ss = SparkSession.builder.getOrCreate()"
   ]
  },
  {
   "cell_type": "code",
   "execution_count": 3,
   "metadata": {},
   "outputs": [],
   "source": [
    "import numpy as np\n",
    "\n",
    "data = [\n",
    "    [float(e) for e in np.random.normal(loc=1, scale=5, size=2000)],\n",
    "    [float(e) for e in np.random.normal(loc=5, scale=5, size=2000)],\n",
    "    [int(e) for e in np.random.normal(loc=1, scale=5, size=2000)],\n",
    "    [int(e) for e in np.random.normal(loc=5, scale=5, size=2000)],\n",
    "]\n",
    "\n",
    "data = list(zip(*data))"
   ]
  },
  {
   "cell_type": "code",
   "execution_count": 4,
   "metadata": {},
   "outputs": [],
   "source": [
    "df = ss.createDataFrame(data, ['ccol1', 'ccol2', 'dcol1', 'dcol2'])"
   ]
  },
  {
   "cell_type": "code",
   "execution_count": 5,
   "metadata": {},
   "outputs": [
    {
     "data": {
      "text/plain": [
       "0.41386668334166987"
      ]
     },
     "execution_count": 5,
     "metadata": {},
     "output_type": "execute_result"
    }
   ],
   "source": [
    "dd.continuous_comparator(df, 'ccol1', df, 'ccol2')"
   ]
  },
  {
   "cell_type": "code",
   "execution_count": 6,
   "metadata": {},
   "outputs": [
    {
     "data": {
      "text/plain": [
       "0.30399999999999994"
      ]
     },
     "execution_count": 6,
     "metadata": {},
     "output_type": "execute_result"
    }
   ],
   "source": [
    "dd.discrete_comparator(df, 'dcol1', df, 'dcol2')"
   ]
  },
  {
   "cell_type": "code",
   "execution_count": null,
   "metadata": {
    "collapsed": true
   },
   "outputs": [],
   "source": []
  }
 ],
 "metadata": {
  "kernelspec": {
   "name": "python38564bitsparkpipelinepipenv2f8f85c93b824716871ae862d219b2b0",
   "display_name": "Python 3.8.9 64-bit ('spark-pipeline-8MDYikK2': venv)"
  },
  "language_info": {
   "codemirror_mode": {
    "name": "ipython",
    "version": 3
   },
   "file_extension": ".py",
   "mimetype": "text/x-python",
   "name": "python",
   "nbconvert_exporter": "python",
   "pygments_lexer": "ipython3",
   "version": "3.8.9-final"
  },
  "metadata": {
   "interpreter": {
    "hash": "30eb20c6327ba7e3ffbe68afe3ac886e873f7d175bac15cf9456c3c8ab22349f"
   }
  }
 },
 "nbformat": 4,
 "nbformat_minor": 2
}